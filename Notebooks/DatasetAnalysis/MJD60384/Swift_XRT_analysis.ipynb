{
 "cells": [
  {
   "cell_type": "code",
   "execution_count": 1,
   "id": "87a7f370-3f6e-4f2b-a1ae-d3fdf5d9a806",
   "metadata": {},
   "outputs": [],
   "source": [
    "%load_ext autoreload\n",
    "%autoreload 2\n",
    "\n",
    "import sys,glob,os,errno\n",
    "\n",
    "import numpy as np\n",
    "import astropy.units as u \n",
    "import matplotlib.pyplot as plt\n",
    "\n",
    "### Custom code\n",
    "helpers = os.path.abspath('../../../Helpers')\n",
    "if helpers not in sys.path:\n",
    "    sys.path.append(helpers)\n",
    "from hydrogen import (\n",
    "    get_tbabs_template_model,\n",
    ")\n",
    "\n",
    "from gammapy.datasets import Datasets\n",
    "from gammapy.modeling.models import Models\n",
    "from gammapy.modeling import Fit\n",
    "from gammapy.estimators import FluxPointsEstimator"
   ]
  },
  {
   "cell_type": "markdown",
   "id": "99a32ceb-97c4-43b6-9e74-f72ff7b62394",
   "metadata": {},
   "source": [
    "## Datasets and models"
   ]
  },
  {
   "cell_type": "code",
   "execution_count": 2,
   "id": "a769b750-9a5d-4e7d-a9a6-24e1cdeb1da6",
   "metadata": {},
   "outputs": [
    {
     "name": "stderr",
     "output_type": "stream",
     "text": [
      "/home/mnievas/anaconda/envs/ciaoxray_devel/lib/python3.11/site-packages/gammapy/utils/scripts.py:66: UserWarning: Checksum verification failed.\n",
      "  warnings.warn(\"Checksum verification failed.\", UserWarning)\n"
     ]
    }
   ],
   "source": [
    "basedir = os.path.abspath(\"../../../\")\n",
    "datasetdir  = f\"{basedir}/XRT/MJD60384/\"\n",
    "\n",
    "# load the dataset and models (without hydrogen-absorption), assuming we start from the Notebooks directory\n",
    "xrt_datasets = Datasets.read(f\"{datasetdir}/dataset.yaml\")\n",
    "xrt_datasets.models = list(Models.read(f\"{datasetdir}/models.yaml\"))\n",
    "xrt_datasets[0].mask_fit = xrt_datasets[0].counts.geom.energy_mask(0.3*u.keV, 10*u.keV)\n",
    "xrt_datasets[0].mask_safe = xrt_datasets[0].counts.geom.energy_mask(0.2*u.keV, 12*u.keV)\n",
    "\n",
    "# add the hydrogen absorption from the 2D table (output from sherpa's / xspec's tbabs). It is the same for XRT.\n",
    "absorption_model = get_tbabs_template_model(f\"{basedir}/Models/tbabs_tau_factor_vs_nH_energy.ecsv\",srcname=\"OP313\")\n",
    "absorption_model.parameters['nH'].frozen = True\n",
    "\n",
    "xrt_datasets.models['OP313'].spectral_model *= absorption_model"
   ]
  },
  {
   "cell_type": "markdown",
   "id": "8dd7d1a7-e6d9-4895-93d9-063f801c6485",
   "metadata": {},
   "source": [
    "## Fit and flux points"
   ]
  },
  {
   "cell_type": "code",
   "execution_count": 3,
   "id": "066148a2-9feb-4c8c-a683-51c36b52592c",
   "metadata": {
    "scrolled": true
   },
   "outputs": [],
   "source": [
    "# Define a fit\n",
    "xrt_only_fit    = Fit(store_trace=True)\n",
    "xrt_only_result = xrt_only_fit.run(xrt_datasets)\n",
    "# we make a copy here for later comparisons\n",
    "xrt_only_model = xrt_datasets.models.copy()\n",
    "# spectral points\n",
    "energy_edges = np.geomspace(0.3*u.keV, 10*u.keV, 10)\n",
    "xrt_only_fpe = FluxPointsEstimator(energy_edges=energy_edges, source=\"OP313\", selection_optional=\"all\")\n",
    "xrt_only_points = xrt_only_fpe.run(xrt_datasets).copy()"
   ]
  },
  {
   "cell_type": "code",
   "execution_count": 4,
   "id": "f4ca13e3-0f22-4df1-954b-7a3a1fcd4803",
   "metadata": {},
   "outputs": [
    {
     "data": {
      "image/png": "[encoded data removed]",
      "text/plain": [
       "<Figure size 500x500 with 1 Axes>"
      ]
     },
     "metadata": {},
     "output_type": "display_data"
    }
   ],
   "source": [
    "fig = plt.figure(figsize=(5, 5),dpi=100)\n",
    "\n",
    "ax = xrt_only_model['OP313'].spectral_model.plot_error(\n",
    "    [energy_edges[0],energy_edges[-1]],\n",
    "    facecolor='tab:red',\n",
    "    sed_type='e2dnde')\n",
    "\n",
    "xrt_only_points.plot(\n",
    "    ax=ax, color=\"tab:red\", sed_type='e2dnde',\n",
    ")\n",
    "ax.set_title('Swift-XRT analysis')\n",
    "ax.set_ylabel('$\\mathrm{E^2\\,dN/dE}$ $\\mathrm{[erg\\,cm^{-2}\\,s^{-1}]}$')\n",
    "!mkdir -p {basedir}/Figures/MJD60384/Swift-XRT\n",
    "fig.savefig(f'{basedir}/Figures/MJD60384/Swift-XRT/BestFit_Swift-XRT.pdf')"
   ]
  },
  {
   "cell_type": "code",
   "execution_count": 5,
   "id": "66bfc7c9-ab57-4106-961b-54863e54b7f1",
   "metadata": {},
   "outputs": [
    {
     "data": {
      "text/html": [
       "<pre>DatasetModels\n",
       "\n",
       "Component 0: SkyModel\n",
       "\n",
       "  Name                      : OP313\n",
       "  Datasets names            : None\n",
       "  Spectral model type       : CompoundSpectralModel\n",
       "  Spatial  model type       : \n",
       "  Temporal model type       : \n",
       "  Parameters:\n",
       "    index                         :      1.695   +/-    0.10             \n",
       "    amplitude                     :   6.46e-04   +/- 5.0e-05 1 / (keV s cm2)\n",
       "    reference             (frozen):      1.000       keV         \n",
       "    nH                    (frozen): 125000000000000000000.000      1 / cm2     \n",
       "\n",
       "</pre>"
      ],
      "text/plain": [
       "<gammapy.modeling.models.core.DatasetModels at 0x7f93e9674450>"
      ]
     },
     "execution_count": 5,
     "metadata": {},
     "output_type": "execute_result"
    }
   ],
   "source": [
    "xrt_only_model"
   ]
  },
  {
   "cell_type": "code",
   "execution_count": null,
   "id": "6b5e52f9-bfe6-4b19-9910-d9e0f953fa2f",
   "metadata": {},
   "outputs": [],
   "source": []
  }
 ],
 "metadata": {
  "kernelspec": {
   "display_name": "ciaoxray_gammapy_devel",
   "language": "python",
   "name": "python3"
  },
  "language_info": {
   "codemirror_mode": {
    "name": "ipython",
    "version": 3
   },
   "file_extension": ".py",
   "mimetype": "text/x-python",
   "name": "python",
   "nbconvert_exporter": "python",
   "pygments_lexer": "ipython3",
   "version": "3.11.8"
  }
 },
 "nbformat": 4,
 "nbformat_minor": 5
}
