{
 "cells": [
  {
   "cell_type": "code",
   "execution_count": 1,
   "id": "87a7f370-3f6e-4f2b-a1ae-d3fdf5d9a806",
   "metadata": {},
   "outputs": [],
   "source": [
    "%load_ext autoreload\n",
    "%autoreload 2\n",
    "\n",
    "import sys,glob,os,errno\n",
    "import numpy as np\n",
    "import matplotlib.pyplot as plt\n",
    "\n",
    "### Custom code\n",
    "helpers = os.path.abspath('../../../Helpers')\n",
    "if helpers not in sys.path:\n",
    "    sys.path.append(helpers)\n",
    "from dustextinction import (\n",
    "    get_gal_extinction_from_radec,\n",
    "    get_xredden_template_model,\n",
    ")\n",
    "from utils import (\n",
    "    get_dataset_energy_edges\n",
    ")\n",
    "\n",
    "from gammapy.datasets import Datasets\n",
    "from gammapy.estimators import FluxPointsEstimator\n",
    "from gammapy.modeling import Fit\n",
    "from gammapy.modeling.models import Models"
   ]
  },
  {
   "cell_type": "markdown",
   "id": "99a32ceb-97c4-43b6-9e74-f72ff7b62394",
   "metadata": {},
   "source": [
    "## Datasets and models"
   ]
  },
  {
   "cell_type": "code",
   "execution_count": 2,
   "id": "a769b750-9a5d-4e7d-a9a6-24e1cdeb1da6",
   "metadata": {},
   "outputs": [
    {
     "name": "stderr",
     "output_type": "stream",
     "text": [
      "/home/mnievas/anaconda/envs/ciaoxray_devel/lib/python3.11/site-packages/gammapy/utils/scripts.py:66: UserWarning: Checksum verification failed.\n",
      "  warnings.warn(\"Checksum verification failed.\", UserWarning)\n"
     ]
    }
   ],
   "source": [
    "basedir = os.path.abspath(\"../../../\")\n",
    "datasetdir  = f\"{basedir}/UVOT/MJD60384/\"\n",
    "\n",
    "# load the dataset and models (without hydrogen-absorption), assuming we start from the Notebooks directory\n",
    "uvot_datasets = Datasets.read(f\"{datasetdir}/dataset.yaml\")\n",
    "\n",
    "# Since we only have one filter, instead of getting leaving a free LP model, use Liverpool's constraint.\n",
    "uvot_datasets.models = list(Models.read(f\"{datasetdir}/models.yaml\"))\n",
    "uvot_datasets.models[0].parameters['alpha'].value = 1.900\n",
    "uvot_datasets.models[0].parameters['beta'].value  = 0.313\n",
    "uvot_datasets.models[0].parameters['alpha'].frozen = True\n",
    "uvot_datasets.models[0].parameters['beta'].frozen  = True\n",
    "\n",
    "extinction_model = get_xredden_template_model(f\"{basedir}/Models/xredden_tau_factor_vs_EBV_energy.ecsv\",\n",
    "                                              srcname='OP313')\n",
    "\n",
    "extinction_model.parameters['ebv'].frozen = True\n",
    "uvot_datasets.models[0].spectral_model *= extinction_model\n"
   ]
  },
  {
   "cell_type": "code",
   "execution_count": 3,
   "id": "ea24bf08-f2e5-41c5-815c-abfbbf0126df",
   "metadata": {},
   "outputs": [
    {
     "data": {
      "text/html": [
       "<pre>CompoundSpectralModel\n",
       "    Component 1 : LogParabolaSpectralModel\n",
       "\n",
       "type    name     value         unit       error      min        max    frozen is_norm link prior\n",
       "---- --------- ---------- ------------- --------- ---------- --------- ------ ------- ---- -----\n",
       "     amplitude 1.0000e+02 eV-1 s-1 cm-2 0.000e+00  1.000e-06 1.000e+06  False    True           \n",
       "     reference 1.0000e+00            eV 0.000e+00        nan       nan   True   False           \n",
       "         alpha 1.9000e+00               0.000e+00 -2.000e+00 8.000e+00   True   False           \n",
       "          beta 3.1300e-01               0.000e+00 -2.000e+00 2.000e+00   True   False           \n",
       "    Component 2 : TemplateNDSpectralModel\n",
       "\n",
       "type name   value    unit   error      min       max    frozen is_norm link prior\n",
       "---- ---- ---------- ---- --------- --------- --------- ------ ------- ---- -----\n",
       "      ebv 1.4400e-02      0.000e+00 0.000e+00 2.500e+00   True   False           \n",
       "    Operator : mul\n",
       "</pre>"
      ],
      "text/plain": [
       "<gammapy.modeling.models.spectral.CompoundSpectralModel at 0x7f9839fe6b10>"
      ]
     },
     "execution_count": 3,
     "metadata": {},
     "output_type": "execute_result"
    }
   ],
   "source": [
    "uvot_datasets.models[0].spectral_model"
   ]
  },
  {
   "cell_type": "markdown",
   "id": "8dd7d1a7-e6d9-4895-93d9-063f801c6485",
   "metadata": {},
   "source": [
    "## Fit and flux points"
   ]
  },
  {
   "cell_type": "code",
   "execution_count": 4,
   "id": "066148a2-9feb-4c8c-a683-51c36b52592c",
   "metadata": {
    "scrolled": true
   },
   "outputs": [
    {
     "name": "stdout",
     "output_type": "stream",
     "text": [
      "OptimizeResult\n",
      "\n",
      "\tbackend    : minuit\n",
      "\tmethod     : migrad\n",
      "\tsuccess    : True\n",
      "\tmessage    : Optimization terminated successfully.\n",
      "\tnfev       : 21\n",
      "\ttotal stat : 0.00\n",
      "\n",
      "CovarianceResult\n",
      "\n",
      "\tbackend    : minuit\n",
      "\tmethod     : hesse\n",
      "\tsuccess    : True\n",
      "\tmessage    : Hesse terminated successfully.\n",
      "\n"
     ]
    }
   ],
   "source": [
    "# Define a fit\n",
    "uvot_only_fit    = Fit(store_trace=True)\n",
    "uvot_only_result = uvot_only_fit.run(uvot_datasets)\n",
    "print(uvot_only_result)\n",
    "# we make a copy here for later comparisons\n",
    "uvot_only_model = uvot_datasets.models.copy()\n",
    "# spectral points\n",
    "energy_edge_pairs = [get_dataset_energy_edges(d) for d in uvot_datasets]\n",
    "uvot_only_fpe     = [FluxPointsEstimator(energy_edges=edges, source=\"OP313\") for edges in energy_edge_pairs]\n",
    "uvot_only_points  = [uvot_only_fpe[k].run(datasets=d) for k,d in enumerate(uvot_datasets)]"
   ]
  },
  {
   "cell_type": "code",
   "execution_count": 5,
   "id": "11d5e95b-8d4b-4712-8ba1-47f819fdb5e0",
   "metadata": {},
   "outputs": [
    {
     "data": {
      "image/png": "[encoded data removed]",
      "text/plain": [
       "<Figure size 500x500 with 1 Axes>"
      ]
     },
     "metadata": {},
     "output_type": "display_data"
    }
   ],
   "source": [
    "plt.figure(figsize=(5, 5),dpi=100)\n",
    "\n",
    "emin = min([min(pair) for pair in energy_edge_pairs])\n",
    "emax = max([max(pair) for pair in energy_edge_pairs])\n",
    "\n",
    "ax = uvot_only_model['OP313'].spectral_model.plot_error(\n",
    "    [emin.to('eV'),emax.to('eV')],\n",
    "    facecolor='C2',\n",
    "    sed_type='e2dnde')\n",
    "\n",
    "for point in uvot_only_points:\n",
    "    point.plot(\n",
    "        ax=ax, color=\"C2\", sed_type='e2dnde',\n",
    "    )\n",
    "\n",
    "ax.set_xlim(emin,emax)\n",
    "ax.set_title('Swift-UVOT analysis')\n",
    "ax.set_ylabel('$\\mathrm{E^2\\,dN/dE}$ $\\mathrm{[erg\\,cm^{-2}\\,s^{-1}]}$')\n",
    "!mkdir -p {basedir}/Figures/MJD60384/Swift-UVOT/\n",
    "plt.savefig(f'{basedir}/Figures/MJD60384/Swift-UVOT/BestFit-Swift-UVOT.pdf',bbox_inches='tight')"
   ]
  },
  {
   "cell_type": "code",
   "execution_count": null,
   "id": "2c820184-ecc3-471f-865d-fa27d012e427",
   "metadata": {},
   "outputs": [],
   "source": []
  }
 ],
 "metadata": {
  "kernelspec": {
   "display_name": "ciaoxray_gammapy_devel",
   "language": "python",
   "name": "python3"
  },
  "language_info": {
   "codemirror_mode": {
    "name": "ipython",
    "version": 3
   },
   "file_extension": ".py",
   "mimetype": "text/x-python",
   "name": "python",
   "nbconvert_exporter": "python",
   "pygments_lexer": "ipython3",
   "version": "3.11.8"
  }
 },
 "nbformat": 4,
 "nbformat_minor": 5
}
